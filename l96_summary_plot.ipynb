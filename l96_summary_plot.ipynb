{
 "cells": [
  {
   "cell_type": "code",
   "execution_count": 1,
   "metadata": {},
   "outputs": [],
   "source": [
    "from lorenz96 import *\n",
    "from calvin_stats.plots import kde_plot, init_2d_fax, autocorrelation_plot"
   ]
  },
  {
   "cell_type": "code",
   "execution_count": 2,
   "metadata": {},
   "outputs": [
    {
     "name": "stderr",
     "output_type": "stream",
     "text": [
      "100%|██████████| 100000/100000 [01:17<00:00, 1290.15it/s]\n"
     ]
    }
   ],
   "source": [
    "# Run an integration\n",
    "\n",
    "l96 = L96Integrator()\n",
    "trajectory_observer = L96TrajectoryObserver(l96)\n",
    "trajectory_observer.make_observations(100000, 0.01)"
   ]
  },
  {
   "cell_type": "code",
   "execution_count": 3,
   "metadata": {},
   "outputs": [],
   "source": [
    "# Plot Figure\n",
    "\n",
    "fig, axes = init_2d_fax(nrows=3)\n",
    "trajectory_observer.observations.X.interp(space=np.arange(1, 40, 0.01), time=np.arange(0, 10, 0.01)).plot(ax=axes[2], add_colorbar=True)\n",
    "axes[2].set_ylabel('Time')\n",
    "kde_plot(trajectory_observer.observations.X, grid_points=100, fax = [fig, axes[0]])\n",
    "axes[0].set_title('')\n",
    "axes[0].grid()\n",
    "axes[0].set_xlabel('$X$')\n",
    "obs = trajectory_observer.observations.X.sel(space=1).values.flatten()\n",
    "autocorrelation_plot(obs, lags=np.arange(0, 300), dt=0.01, fax=[fig, axes[1]])\n",
    "axes[1].grid()\n",
    "axes[1].set_title('')\n",
    "axes[1].set_ylabel('Temporal\\nAutocorrelation')\n",
    "axes[1].set_xlabel('Time')\n",
    "fig.tight_layout()\n",
    "fig.savefig('/Users/cfn18/Documents/PhD-Work/Thesis/img/L96-EBM/L96-Summary.png', dpi=1200)"
   ]
  }
 ],
 "metadata": {
  "kernelspec": {
   "display_name": "l96_ebm",
   "language": "python",
   "name": "python3"
  },
  "language_info": {
   "codemirror_mode": {
    "name": "ipython",
    "version": 3
   },
   "file_extension": ".py",
   "mimetype": "text/x-python",
   "name": "python",
   "nbconvert_exporter": "python",
   "pygments_lexer": "ipython3",
   "version": "3.11.3"
  },
  "orig_nbformat": 4,
  "vscode": {
   "interpreter": {
    "hash": "5fe57a62c4c10bf3a95c6a2647d47d871b8e69217ef730b6554b29c7e8c3e9f2"
   }
  }
 },
 "nbformat": 4,
 "nbformat_minor": 2
}
