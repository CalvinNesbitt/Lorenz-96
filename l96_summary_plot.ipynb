{
 "cells": [
  {
   "cell_type": "code",
   "execution_count": 1,
   "metadata": {},
   "outputs": [],
   "source": [
    "from lorenz96 import *\n",
    "from calvin_stats.plots import kde_plot, init_2d_fax"
   ]
  },
  {
   "cell_type": "code",
   "execution_count": 2,
   "metadata": {},
   "outputs": [
    {
     "name": "stderr",
     "output_type": "stream",
     "text": [
      "100%|██████████| 10000/10000 [00:13<00:00, 736.18it/s]\n"
     ]
    }
   ],
   "source": [
    "# Run an integration\n",
    "\n",
    "l96 = l96Integrator()\n",
    "trajectory_observer = l96TrajectoryObserver(l96)\n",
    "trajectory_observer.make_observations(10000, 0.01)"
   ]
  },
  {
   "cell_type": "code",
   "execution_count": 18,
   "metadata": {},
   "outputs": [],
   "source": [
    "# Plot Figure\n",
    "\n",
    "fig, axes = init_2d_fax(ncols=2)\n",
    "trajectory_observer.observations.X.interp(space=np.arange(1, 30, 0.01), time=np.arange(0, 10, 0.01)).plot(ax=axes[1], add_colorbar=True)\n",
    "kde_plot(trajectory_observer.observations.X, grid_points=100, fax = [fig, axes[0]])\n",
    "axes[0].set_title('')\n",
    "axes[0].grid()\n",
    "axes[0].set_xlabel('$X$')\n",
    "fig.tight_layout()\n",
    "fig.savefig('/Users/cfn18/Documents/PhD-Work/Thesis/img/L96-EBM/L96-Summary.png', dpi=1200)"
   ]
  },
  {
   "cell_type": "code",
   "execution_count": null,
   "metadata": {},
   "outputs": [],
   "source": []
  }
 ],
 "metadata": {
  "kernelspec": {
   "display_name": "DD",
   "language": "python",
   "name": "python3"
  },
  "language_info": {
   "codemirror_mode": {
    "name": "ipython",
    "version": 3
   },
   "file_extension": ".py",
   "mimetype": "text/x-python",
   "name": "python",
   "nbconvert_exporter": "python",
   "pygments_lexer": "ipython3",
   "version": "3.10.8"
  },
  "orig_nbformat": 4,
  "vscode": {
   "interpreter": {
    "hash": "9ba4d7cf7ebc81d70773bbc6a0f66872cffdd98e29b87cbd64c92fb4a4c006e2"
   }
  }
 },
 "nbformat": 4,
 "nbformat_minor": 2
}
